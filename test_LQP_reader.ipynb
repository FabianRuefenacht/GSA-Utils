{
 "cells": [
  {
   "cell_type": "code",
   "execution_count": 1,
   "id": "0616ae00",
   "metadata": {},
   "outputs": [],
   "source": [
    "import LQPReader"
   ]
  },
  {
   "cell_type": "code",
   "execution_count": 4,
   "id": "8889ad0b",
   "metadata": {},
   "outputs": [
    {
     "name": "stdout",
     "output_type": "stream",
     "text": [
      "{'name': 'FS9001', 'IH': 0.0, 'O': 2785733.969, 'N': 1195371.701, 'H': 1134.706, 'anschluesse': [{'name': '1407', 'O': 2785728.4, 'N': 1195362.785, 'H': 1130.698, 'RH': 1.6, 'SD': 10.786, 'HD': 10.514, 'HZ': 235.5355, 'V': 114.3248}, {'name': '3192', 'O': 2785688.35, 'N': 1195405.886, 'H': 1124.05, 'RH': 2.15, 'SD': 57.642, 'HD': 57.011, 'HZ': 340.9414, 'V': 109.4302}, {'name': '1075', 'O': 2785760.687, 'N': 1195394.253, 'H': 1136.925, 'RH': 1.6, 'SD': 35.17, 'HD': 34.962, 'HZ': 55.3676, 'V': 93.0748}, {'name': '1312', 'O': 2785764.067, 'N': 1195363.222, 'H': 1133.614, 'RH': 1.6, 'SD': 31.276, 'HD': 31.272, 'HZ': 117.4799, 'V': 98.9639}, {'name': '8881', 'O': 2785715.376, 'N': 1195381.562, 'H': 1129.378, 'RH': 0.0, 'SD': 21.711, 'HD': 21.047, 'HZ': 331.0469, 'V': 115.7861}]}\n",
      "names ['1407', '3192', '1075', '1312', '8881']\n",
      "SD [10.786, 57.642, 35.17, 31.276, 21.711]\n",
      "V [114.3248, 109.4302, 93.0748, 98.9639, 115.7861]\n",
      "eastings [2785728.4, 2785688.35, 2785760.687, 2785764.067, 2785715.376]\n",
      "northings [1195362.785, 1195405.886, 1195394.253, 1195363.222, 1195381.562]\n",
      "heights [1130.698, 1124.05, 1136.925, 1133.614, 1129.378]\n",
      "directions [235.5355, 340.9414, 55.3676, 117.4799, 331.0469]\n"
     ]
    }
   ],
   "source": [
    "lqp_sections = LQPReader.parseLQP(\"./test-data/V9_12.lqp\")\n",
    "resections = LQPReader.get_resections(lqp_sections)\n",
    "setups = LQPReader.process_resections(resections)\n",
    "measurements_dict = setups[0] # get all measurements of the first setup\n",
    "\n",
    "print(measurements_dict)\n",
    "\n",
    "names = [obs[\"name\"] for obs in measurements_dict[\"anschluesse\"]]\n",
    "SD = [obs[\"SD\"] for obs in measurements_dict[\"anschluesse\"]]\n",
    "V = [obs[\"V\"] for obs in measurements_dict[\"anschluesse\"]]\n",
    "e_coord = [obs[\"O\"] for obs in measurements_dict[\"anschluesse\"]]\n",
    "n_coord = [obs[\"N\"] for obs in measurements_dict[\"anschluesse\"]]\n",
    "heights = [obs[\"H\"] for obs in measurements_dict[\"anschluesse\"]]\n",
    "directions = [obs[\"HZ\"] for obs in measurements_dict[\"anschluesse\"]]\n",
    "\n",
    "print(\"names\", names)\n",
    "print(\"SD\", SD)\n",
    "print(\"V\",V)\n",
    "print(\"eastings\", e_coord)\n",
    "print(\"northings\", n_coord)\n",
    "print(\"heights\", heights)\n",
    "print(\"directions\", directions)"
   ]
  },
  {
   "cell_type": "code",
   "execution_count": null,
   "id": "7b2ef6d2",
   "metadata": {},
   "outputs": [],
   "source": []
  }
 ],
 "metadata": {
  "kernelspec": {
   "display_name": "GSA",
   "language": "python",
   "name": "python3"
  },
  "language_info": {
   "codemirror_mode": {
    "name": "ipython",
    "version": 3
   },
   "file_extension": ".py",
   "mimetype": "text/x-python",
   "name": "python",
   "nbconvert_exporter": "python",
   "pygments_lexer": "ipython3",
   "version": "3.12.4"
  }
 },
 "nbformat": 4,
 "nbformat_minor": 5
}
